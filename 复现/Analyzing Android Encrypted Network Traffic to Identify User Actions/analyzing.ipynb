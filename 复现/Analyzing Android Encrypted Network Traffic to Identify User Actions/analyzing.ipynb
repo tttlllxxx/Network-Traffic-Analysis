{
 "cells": [
  {
   "cell_type": "code",
   "execution_count": 37,
   "metadata": {},
   "outputs": [],
   "source": [
    "import pandas as pd\n",
    "import numpy as np\n",
    "from ast import literal_eval\n",
    "from sklearn.ensemble import RandomForestClassifier\n",
    "from sklearn.model_selection import train_test_split\n",
    "from sklearn.metrics import classification_report"
   ]
  },
  {
   "cell_type": "code",
   "execution_count": 30,
   "metadata": {},
   "outputs": [],
   "source": [
    "def dtw_distance(sequence1, sequence2):\n",
    "    n = len(sequence1)\n",
    "    m = len(sequence2)\n",
    "    \n",
    "    # 初始化DTW矩阵\n",
    "    dtw_matrix = np.full((n+1, m+1), np.inf)\n",
    "    dtw_matrix[0, 0] = 0\n",
    "\n",
    "    # 计算DTW矩阵\n",
    "    for i in range(1, n+1):\n",
    "        for j in range(1, m+1):\n",
    "            cost = abs(sequence1[i-1] - sequence2[j-1])\n",
    "            dtw_matrix[i, j] = cost + min(\n",
    "                dtw_matrix[i-1, j],    # 插入\n",
    "                dtw_matrix[i, j-1],    # 删除\n",
    "                dtw_matrix[i-1, j-1]   # 匹配\n",
    "            )\n",
    "    return dtw_matrix[n, m]"
   ]
  },
  {
   "cell_type": "code",
   "execution_count": null,
   "metadata": {},
   "outputs": [],
   "source": [
    "df = pd.read_csv(\"tcp_flows_labeled.csv\")\n",
    "df[\"ts_combined\"] = df[\"ts_combined\"].apply(literal_eval)\n",
    "flows = df[\"ts_combined\"].tolist()\n",
    "\n",
    "N = len(flows)\n",
    "dist_matrix = np.zeros((N, N))\n",
    "for i in range(N):\n",
    "    for j in range(i + 1, N):\n",
    "        d = dtw_distance(flows[i], flows[j])\n",
    "        dist_matrix[i, j] = dist_matrix[j, i] = d"
   ]
  },
  {
   "cell_type": "code",
   "execution_count": null,
   "metadata": {},
   "outputs": [],
   "source": [
    "from sklearn.cluster import AgglomerativeClustering\n",
    "\n",
    "# 使用 DTW 距离矩阵直接聚类\n",
    "n_clusters = 5\n",
    "clustering = AgglomerativeClustering(n_clusters=n_clusters, affinity='precomputed', linkage='average')\n",
    "df[\"cluster\"] = clustering.fit_predict(dist_matrix)"
   ]
  },
  {
   "cell_type": "code",
   "execution_count": null,
   "metadata": {},
   "outputs": [],
   "source": [
    "# 每个 cluster 选出 leader\n",
    "leaders = {}\n",
    "for k in range(n_clusters):\n",
    "    indices = df[df[\"cluster\"] == k].index.tolist()\n",
    "    best_i = min(indices, key=lambda i: sum(dist_matrix[i][j] for j in indices))\n",
    "    leaders[k] = df.loc[best_i, \"ts_combined\"]\n"
   ]
  },
  {
   "cell_type": "code",
   "execution_count": null,
   "metadata": {},
   "outputs": [],
   "source": [
    "# 每个 flow 已知它属于哪个 cluster，现在统计每个 action 在各 cluster 中的数量\n",
    "X = []\n",
    "y = []\n",
    "\n",
    "grouped = df.groupby(\"action\")\n",
    "for action_label, group in grouped:\n",
    "    counts = [0] * n_clusters\n",
    "    for ts in group[\"ts_combined\"]:\n",
    "        # 重新用 leader 分配一次，避免聚类误差\n",
    "        closest_cluster = min(leaders, key=lambda c: dtw_distance(ts, leaders[c]))\n",
    "        counts[closest_cluster] += 1\n",
    "    X.append(counts)\n",
    "    y.append(action_label)"
   ]
  },
  {
   "cell_type": "code",
   "execution_count": null,
   "metadata": {},
   "outputs": [],
   "source": [
    "X_train, X_test, y_train, y_test = train_test_split(X, y, test_size=0.2, random_state=42)\n",
    "clf = RandomForestClassifier(n_estimators=100, random_state=42)\n",
    "clf.fit(X_train, y_train)\n",
    "y_pred = clf.predict(X_test)"
   ]
  },
  {
   "cell_type": "code",
   "execution_count": null,
   "metadata": {},
   "outputs": [],
   "source": [
    "print(classification_report(y_test, y_pred))"
   ]
  }
 ],
 "metadata": {
  "kernelspec": {
   "display_name": "pytorch",
   "language": "python",
   "name": "python3"
  },
  "language_info": {
   "codemirror_mode": {
    "name": "ipython",
    "version": 3
   },
   "file_extension": ".py",
   "mimetype": "text/x-python",
   "name": "python",
   "nbconvert_exporter": "python",
   "pygments_lexer": "ipython3",
   "version": "3.10.16"
  }
 },
 "nbformat": 4,
 "nbformat_minor": 2
}
